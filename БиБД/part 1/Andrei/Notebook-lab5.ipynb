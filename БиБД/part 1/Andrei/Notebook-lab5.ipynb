{
    "metadata": {
        "kernelspec": {
            "name": "SQL",
            "display_name": "SQL",
            "language": "sql"
        },
        "language_info": {
            "name": "sql",
            "version": ""
        }
    },
    "nbformat_minor": 2,
    "nbformat": 4,
    "cells": [
        {
            "cell_type": "code",
            "source": [
                "Create database b1;\n",
                "use b1;\n",
                "CREATE TABLE Basic (\n",
                "    SongTitle VARCHAR(35),\n",
                "    Quality varchar(1),\n",
                "    Duration INT,\n",
                "    DateRecord DATE,\n",
                "    AlbumTitle varchar(35), \n",
                "    price decimal (5,2),\n",
                "    ArtistName varchar(35),\n",
                "    [e-mail] varchar(35)\n",
                "    );\n",
                "insert into Basic (SongTitle, Quality, Duration, DateRecord, AlbumTitle, price, ArtistName, [e-mail]) values \n",
                "('Sing Me To Sleep', 'H', 176, '2019-08-29',null, null, 'Alan Walke', 'AlanWalker@mail.com'),\n",
                "('The Greatest', 'L', 88, '2020-10-24', 'The Greatest', 2.38, 'Sia', null),\n",
                "('Cheap Thrills', 'M', 115, '2017-07-16', 'The Greatest', 2.38, 'Sia', null),\n",
                "('Ocean Drive', 'M', 101,\t'2019-12-04', null, null, 'Duke Dumont', null),\n",
                "('No Money', 'M',\t126, '2019-05-11', 'In The Lonely Hour', 3.63, null, null),\n",
                "('Thinking About It', 'L', 170, '2020-01-14', 'Evolution', 1.88, 'Nathan Goshen', null),\n",
                "('Perfect Strangers', 'L', 189, '2019-09-06', 'Runway', 2.75, 'Jonas Blue', null),\n",
                "('Perfect Strangers', 'L', 189, '2019-09-06', 'Runway', 2.75, 'Jp Cooper', null),\n",
                "('Thinking About It', 'M', 179, '2018-10-25','In The Lonely Hour',3.25, 'Alan Walke', 'AlanWalker@mail.com'),\n",
                "('Thinking About It', 'M', 179, '2018-10-25','In The Lonely Hour',3.25, 'Jp Cooper', null),\n",
                "('My Way', 'H', 163, '2020-07-26','My Way', 1.63, 'Frank Sinatra', null),\t\n",
                "('My Way', 'H', 157,\t'1985-01-11','The Christmas', 3.63, 'Frank Sinatra', null),\n",
                "('Let It Snow!', 'M', 158, '1984-03-05','World On A String', 3.38, 'Frank Sinatra', null);\n",
                "\n",
                "-- Выполнить представленные выше запросы.\n",
                "-- Нормальзвать базу данных. \n",
                "-- Создать новые таблицы (назания полей взять из таблицы Basic),\n",
                "-- заполнить их с помощью запросов из таблицы Basic"
            ],
            "metadata": {
                "azdata_cell_guid": "dd5858e9-8b96-480f-b8b2-747b0af1acc6",
                "tags": []
            },
            "outputs": [
                {
                    "output_type": "error",
                    "evalue": "Msg 911, Level 16, State 1, Line 2\nDatabase 'b1' does not exist. Make sure that the name is entered correctly.",
                    "ename": "",
                    "traceback": []
                },
                {
                    "output_type": "display_data",
                    "data": {
                        "text/html": "Total execution time: 00:00:00.006"
                    },
                    "metadata": {}
                }
            ],
            "execution_count": 2
        },
        {
            "cell_type": "code",
            "source": [
                ""
            ],
            "metadata": {
                "azdata_cell_guid": "1a2fc371-6372-4947-b091-205686dc79b8"
            },
            "outputs": [
                {
                    "output_type": "display_data",
                    "data": {
                        "text/html": "Commands completed successfully."
                    },
                    "metadata": {}
                },
                {
                    "output_type": "display_data",
                    "data": {
                        "text/html": "Total execution time: 00:00:00"
                    },
                    "metadata": {}
                }
            ],
            "execution_count": 1
        }
    ]
}